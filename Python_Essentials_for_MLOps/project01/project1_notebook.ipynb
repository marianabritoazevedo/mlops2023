{
 "cells": [
  {
   "cell_type": "markdown",
   "source": [
    "## Installing libraries"
   ],
   "metadata": {}
  },
  {
   "cell_type": "code",
   "execution_count": null,
   "source": [
    "!pip install scikit-learn"
   ],
   "outputs": [],
   "metadata": {}
  },
  {
   "cell_type": "markdown",
   "source": [
    "## Logging configuration"
   ],
   "metadata": {}
  },
  {
   "cell_type": "code",
   "execution_count": 57,
   "source": [
    "import logging\r\n",
    "\r\n",
    "# Set logging configurations\r\n",
    "logging.basicConfig(level=logging.DEBUG)"
   ],
   "outputs": [],
   "metadata": {}
  },
  {
   "cell_type": "markdown",
   "source": [
    "## Search similar movies by title"
   ],
   "metadata": {}
  },
  {
   "cell_type": "code",
   "execution_count": 59,
   "source": [
    "import pandas as pd\r\n",
    "from IPython.display import display\r\n",
    "\r\n",
    "def read_file(link):\r\n",
    "    '''\r\n",
    "    This function aims to read a csv file\r\n",
    "    '''\r\n",
    "    try:\r\n",
    "        data = pd.read_csv(link)\r\n",
    "        logging.info('✅ Data loaded successfully!')\r\n",
    "        return data\r\n",
    "    except FileNotFoundError:\r\n",
    "        logging.error('❌ File not found.')\r\n",
    "        return None\r\n",
    "\r\n",
    "def show_file(data):\r\n",
    "    '''\r\n",
    "    This function aims to show the first 5 lines of a Pandas dataframe\r\n",
    "    '''\r\n",
    "    try:\r\n",
    "        display(data.head())\r\n",
    "    except AttributeError:\r\n",
    "        logging.error('❌ It was not possible to show this file.')\r\n",
    "\r\n",
    "def show_types(data):\r\n",
    "    '''\r\n",
    "    This function aims to show the types of the columns of a dataframe\r\n",
    "    '''\r\n",
    "    try:\r\n",
    "        display(data.dtypes)\r\n",
    "    except AttributeError:\r\n",
    "        logging.error('❌ It was not possible to show the types of this file.')\r\n",
    "\r\n",
    "movies = read_file(\"files/movies.csv\")\r\n",
    "show_file(movies)"
   ],
   "outputs": [
    {
     "output_type": "stream",
     "name": "stderr",
     "text": [
      "INFO:root:✅ Data loaded successfully!\n"
     ]
    },
    {
     "output_type": "display_data",
     "data": {
      "text/html": [
       "<div>\n",
       "<style scoped>\n",
       "    .dataframe tbody tr th:only-of-type {\n",
       "        vertical-align: middle;\n",
       "    }\n",
       "\n",
       "    .dataframe tbody tr th {\n",
       "        vertical-align: top;\n",
       "    }\n",
       "\n",
       "    .dataframe thead th {\n",
       "        text-align: right;\n",
       "    }\n",
       "</style>\n",
       "<table border=\"1\" class=\"dataframe\">\n",
       "  <thead>\n",
       "    <tr style=\"text-align: right;\">\n",
       "      <th></th>\n",
       "      <th>movieId</th>\n",
       "      <th>title</th>\n",
       "      <th>genres</th>\n",
       "    </tr>\n",
       "  </thead>\n",
       "  <tbody>\n",
       "    <tr>\n",
       "      <th>0</th>\n",
       "      <td>1</td>\n",
       "      <td>Toy Story (1995)</td>\n",
       "      <td>Adventure|Animation|Children|Comedy|Fantasy</td>\n",
       "    </tr>\n",
       "    <tr>\n",
       "      <th>1</th>\n",
       "      <td>2</td>\n",
       "      <td>Jumanji (1995)</td>\n",
       "      <td>Adventure|Children|Fantasy</td>\n",
       "    </tr>\n",
       "    <tr>\n",
       "      <th>2</th>\n",
       "      <td>3</td>\n",
       "      <td>Grumpier Old Men (1995)</td>\n",
       "      <td>Comedy|Romance</td>\n",
       "    </tr>\n",
       "    <tr>\n",
       "      <th>3</th>\n",
       "      <td>4</td>\n",
       "      <td>Waiting to Exhale (1995)</td>\n",
       "      <td>Comedy|Drama|Romance</td>\n",
       "    </tr>\n",
       "    <tr>\n",
       "      <th>4</th>\n",
       "      <td>5</td>\n",
       "      <td>Father of the Bride Part II (1995)</td>\n",
       "      <td>Comedy</td>\n",
       "    </tr>\n",
       "  </tbody>\n",
       "</table>\n",
       "</div>"
      ],
      "text/plain": [
       "   movieId                               title  \\\n",
       "0        1                    Toy Story (1995)   \n",
       "1        2                      Jumanji (1995)   \n",
       "2        3             Grumpier Old Men (1995)   \n",
       "3        4            Waiting to Exhale (1995)   \n",
       "4        5  Father of the Bride Part II (1995)   \n",
       "\n",
       "                                        genres  \n",
       "0  Adventure|Animation|Children|Comedy|Fantasy  \n",
       "1                   Adventure|Children|Fantasy  \n",
       "2                               Comedy|Romance  \n",
       "3                         Comedy|Drama|Romance  \n",
       "4                                       Comedy  "
      ]
     },
     "metadata": {}
    }
   ],
   "metadata": {}
  },
  {
   "cell_type": "code",
   "execution_count": 61,
   "source": [
    "import re\r\n",
    "\r\n",
    "def clean_title(title):\r\n",
    "    '''\r\n",
    "    This function removes special characters from a string, retaining only letters, numbers, and white spaces.\r\n",
    "    '''\r\n",
    "    title = re.sub(\"[^a-zA-Z0-9 ]\", \"\", title)\r\n",
    "    return title\r\n",
    "\r\n",
    "movies[\"clean_title\"] = movies[\"title\"].apply(clean_title)\r\n",
    "show_file(movies)"
   ],
   "outputs": [
    {
     "output_type": "display_data",
     "data": {
      "text/html": [
       "<div>\n",
       "<style scoped>\n",
       "    .dataframe tbody tr th:only-of-type {\n",
       "        vertical-align: middle;\n",
       "    }\n",
       "\n",
       "    .dataframe tbody tr th {\n",
       "        vertical-align: top;\n",
       "    }\n",
       "\n",
       "    .dataframe thead th {\n",
       "        text-align: right;\n",
       "    }\n",
       "</style>\n",
       "<table border=\"1\" class=\"dataframe\">\n",
       "  <thead>\n",
       "    <tr style=\"text-align: right;\">\n",
       "      <th></th>\n",
       "      <th>movieId</th>\n",
       "      <th>title</th>\n",
       "      <th>genres</th>\n",
       "      <th>clean_title</th>\n",
       "    </tr>\n",
       "  </thead>\n",
       "  <tbody>\n",
       "    <tr>\n",
       "      <th>0</th>\n",
       "      <td>1</td>\n",
       "      <td>Toy Story (1995)</td>\n",
       "      <td>Adventure|Animation|Children|Comedy|Fantasy</td>\n",
       "      <td>Toy Story 1995</td>\n",
       "    </tr>\n",
       "    <tr>\n",
       "      <th>1</th>\n",
       "      <td>2</td>\n",
       "      <td>Jumanji (1995)</td>\n",
       "      <td>Adventure|Children|Fantasy</td>\n",
       "      <td>Jumanji 1995</td>\n",
       "    </tr>\n",
       "    <tr>\n",
       "      <th>2</th>\n",
       "      <td>3</td>\n",
       "      <td>Grumpier Old Men (1995)</td>\n",
       "      <td>Comedy|Romance</td>\n",
       "      <td>Grumpier Old Men 1995</td>\n",
       "    </tr>\n",
       "    <tr>\n",
       "      <th>3</th>\n",
       "      <td>4</td>\n",
       "      <td>Waiting to Exhale (1995)</td>\n",
       "      <td>Comedy|Drama|Romance</td>\n",
       "      <td>Waiting to Exhale 1995</td>\n",
       "    </tr>\n",
       "    <tr>\n",
       "      <th>4</th>\n",
       "      <td>5</td>\n",
       "      <td>Father of the Bride Part II (1995)</td>\n",
       "      <td>Comedy</td>\n",
       "      <td>Father of the Bride Part II 1995</td>\n",
       "    </tr>\n",
       "  </tbody>\n",
       "</table>\n",
       "</div>"
      ],
      "text/plain": [
       "   movieId                               title  \\\n",
       "0        1                    Toy Story (1995)   \n",
       "1        2                      Jumanji (1995)   \n",
       "2        3             Grumpier Old Men (1995)   \n",
       "3        4            Waiting to Exhale (1995)   \n",
       "4        5  Father of the Bride Part II (1995)   \n",
       "\n",
       "                                        genres  \\\n",
       "0  Adventure|Animation|Children|Comedy|Fantasy   \n",
       "1                   Adventure|Children|Fantasy   \n",
       "2                               Comedy|Romance   \n",
       "3                         Comedy|Drama|Romance   \n",
       "4                                       Comedy   \n",
       "\n",
       "                        clean_title  \n",
       "0                    Toy Story 1995  \n",
       "1                      Jumanji 1995  \n",
       "2             Grumpier Old Men 1995  \n",
       "3            Waiting to Exhale 1995  \n",
       "4  Father of the Bride Part II 1995  "
      ]
     },
     "metadata": {}
    }
   ],
   "metadata": {}
  },
  {
   "cell_type": "code",
   "execution_count": 62,
   "source": [
    "from sklearn.feature_extraction.text import TfidfVectorizer\r\n",
    "\r\n",
    "# Creates an TfidfVectorizer instance\r\n",
    "vectorizer = TfidfVectorizer(ngram_range=(1,2))\r\n",
    "# Numeric representation of movie title based\r\n",
    "# on words frequency and bigrams\r\n",
    "tfidf = vectorizer.fit_transform(movies[\"clean_title\"])"
   ],
   "outputs": [],
   "metadata": {}
  },
  {
   "cell_type": "code",
   "execution_count": 63,
   "source": [
    "from sklearn.metrics.pairwise import cosine_similarity\r\n",
    "import numpy as np\r\n",
    "\r\n",
    "def search_similar_movies_title(title, data):\r\n",
    "    '''\r\n",
    "    This function returns the movies most similar to \r\n",
    "    the provided movie based on its title. \r\n",
    "    '''\r\n",
    "    title = clean_title(title)\r\n",
    "    query_vec = vectorizer.transform([title]) # Transforms the title in a vector \r\n",
    "    similarity = cosine_similarity(query_vec, tfidf).flatten() # Calculares cosine similarity \r\n",
    "    indices = np.argpartition(similarity, -5)[-5:] # Takes the 5 more similar movies\r\n",
    "    results = data.iloc[indices].iloc[::-1] # Most similar movies in the top\r\n",
    "    \r\n",
    "    return results"
   ],
   "outputs": [],
   "metadata": {}
  },
  {
   "cell_type": "code",
   "execution_count": 64,
   "source": [
    "import ipywidgets as widgets\r\n",
    "from IPython.display import display\r\n",
    "\r\n",
    "# Defines the movie input to search to similar movies\r\n",
    "movie_input = widgets.Text(\r\n",
    "    value='Toy Story',\r\n",
    "    description='Movie Title:',\r\n",
    "    disabled=False\r\n",
    ")\r\n",
    "\r\n",
    "# List with 5 most similar movies\r\n",
    "movie_list = widgets.Output()\r\n",
    "\r\n",
    "def on_type_title(data):\r\n",
    "    '''\r\n",
    "    This function is a callback called every time the movie_input \r\n",
    "    changes. When this happens, the movie_list will be cleared, and \r\n",
    "    if the title has more than 5 characters, it will search the \r\n",
    "    most similar movies according to its title\r\n",
    "    '''\r\n",
    "    with movie_list:\r\n",
    "        movie_list.clear_output()\r\n",
    "        title = data[\"new\"]\r\n",
    "        if len(title) > 5:\r\n",
    "            display(search_similar_movies_title(title, movies))\r\n",
    "        else:\r\n",
    "            logging.info('ℹ️ Enter at least 6 characters to search for similar movies!')\r\n",
    "\r\n",
    "# Automatically calls on_type_title when movie_input changes\r\n",
    "movie_input.observe(on_type_title, names='value')\r\n",
    "# Display the movie and its similar ones\r\n",
    "display(movie_input, movie_list)"
   ],
   "outputs": [
    {
     "output_type": "display_data",
     "data": {
      "application/vnd.jupyter.widget-view+json": {
       "version_major": 2,
       "version_minor": 0,
       "model_id": "960c11363cab4b94848aa69337450269"
      },
      "text/plain": [
       "Text(value='Toy Story', description='Movie Title:')"
      ]
     },
     "metadata": {}
    },
    {
     "output_type": "display_data",
     "data": {
      "application/vnd.jupyter.widget-view+json": {
       "version_major": 2,
       "version_minor": 0,
       "model_id": "d25be8450a7449f891399fe4f3595023"
      },
      "text/plain": [
       "Output()"
      ]
     },
     "metadata": {}
    }
   ],
   "metadata": {}
  },
  {
   "cell_type": "markdown",
   "source": [
    "## Search recommendation movies by ratings"
   ],
   "metadata": {}
  },
  {
   "cell_type": "code",
   "execution_count": 65,
   "source": [
    "class NoDataFiltered(Exception):\r\n",
    "    '''\r\n",
    "    Raised when there is no search when applying a filter \r\n",
    "    '''\r\n",
    "\r\n",
    "def filter_movie_by_id(movie_id, data):\r\n",
    "    '''\r\n",
    "    This function searchs a movie by its id\r\n",
    "    '''\r\n",
    "    try:\r\n",
    "        movie = data[data[\"movieId\"] == movie_id]\r\n",
    "        if len(movie) == 0:\r\n",
    "            raise NoDataFiltered('❌ There isn\\'t any movie with this ID.')\r\n",
    "        return movie\r\n",
    "    except NoDataFiltered as error:\r\n",
    "        print(error)\r\n",
    "        return None"
   ],
   "outputs": [],
   "metadata": {}
  },
  {
   "cell_type": "code",
   "execution_count": 66,
   "source": [
    "ratings = read_file(\"files/ratings.csv\")\r\n",
    "show_file(ratings)\r\n",
    "show_types(ratings)"
   ],
   "outputs": [
    {
     "output_type": "stream",
     "name": "stderr",
     "text": [
      "INFO:root:✅ Data loaded successfully!\n"
     ]
    },
    {
     "output_type": "display_data",
     "data": {
      "text/html": [
       "<div>\n",
       "<style scoped>\n",
       "    .dataframe tbody tr th:only-of-type {\n",
       "        vertical-align: middle;\n",
       "    }\n",
       "\n",
       "    .dataframe tbody tr th {\n",
       "        vertical-align: top;\n",
       "    }\n",
       "\n",
       "    .dataframe thead th {\n",
       "        text-align: right;\n",
       "    }\n",
       "</style>\n",
       "<table border=\"1\" class=\"dataframe\">\n",
       "  <thead>\n",
       "    <tr style=\"text-align: right;\">\n",
       "      <th></th>\n",
       "      <th>userId</th>\n",
       "      <th>movieId</th>\n",
       "      <th>rating</th>\n",
       "      <th>timestamp</th>\n",
       "    </tr>\n",
       "  </thead>\n",
       "  <tbody>\n",
       "    <tr>\n",
       "      <th>0</th>\n",
       "      <td>1</td>\n",
       "      <td>296</td>\n",
       "      <td>5.0</td>\n",
       "      <td>1147880044</td>\n",
       "    </tr>\n",
       "    <tr>\n",
       "      <th>1</th>\n",
       "      <td>1</td>\n",
       "      <td>306</td>\n",
       "      <td>3.5</td>\n",
       "      <td>1147868817</td>\n",
       "    </tr>\n",
       "    <tr>\n",
       "      <th>2</th>\n",
       "      <td>1</td>\n",
       "      <td>307</td>\n",
       "      <td>5.0</td>\n",
       "      <td>1147868828</td>\n",
       "    </tr>\n",
       "    <tr>\n",
       "      <th>3</th>\n",
       "      <td>1</td>\n",
       "      <td>665</td>\n",
       "      <td>5.0</td>\n",
       "      <td>1147878820</td>\n",
       "    </tr>\n",
       "    <tr>\n",
       "      <th>4</th>\n",
       "      <td>1</td>\n",
       "      <td>899</td>\n",
       "      <td>3.5</td>\n",
       "      <td>1147868510</td>\n",
       "    </tr>\n",
       "  </tbody>\n",
       "</table>\n",
       "</div>"
      ],
      "text/plain": [
       "   userId  movieId  rating   timestamp\n",
       "0       1      296     5.0  1147880044\n",
       "1       1      306     3.5  1147868817\n",
       "2       1      307     5.0  1147868828\n",
       "3       1      665     5.0  1147878820\n",
       "4       1      899     3.5  1147868510"
      ]
     },
     "metadata": {}
    },
    {
     "output_type": "display_data",
     "data": {
      "text/plain": [
       "userId         int64\n",
       "movieId        int64\n",
       "rating       float64\n",
       "timestamp      int64\n",
       "dtype: object"
      ]
     },
     "metadata": {}
    }
   ],
   "metadata": {}
  },
  {
   "cell_type": "code",
   "execution_count": 67,
   "source": [
    "def search_similar_movies_ratings(movie_id):\r\n",
    "    '''\r\n",
    "    This function searches for similar movies based on users ratings\r\n",
    "    '''\r\n",
    "    \r\n",
    "    # Find users who rated the movie with the specified ID and rated it higher than 4\r\n",
    "    query=(ratings[\"movieId\"] == movie_id) & (ratings[\"rating\"] > 4)\r\n",
    "    similar_users = ratings[query][\"userId\"].unique()\r\n",
    "\r\n",
    "    # Filter the movie ratings made by similar users and a rating higher than 4\r\n",
    "    query=(ratings[\"userId\"].isin(similar_users)) & (ratings[\"rating\"] > 4)\r\n",
    "    similar_user_recs = ratings[query][\"movieId\"]\r\n",
    "\r\n",
    "    # Calculate the recommendation percentage for each movie based on ratings from similar users\r\n",
    "    similar_user_recs = similar_user_recs.value_counts() / len(similar_users)\r\n",
    "\r\n",
    "    # Filter movies with a recommendation percentage greater than 10%\r\n",
    "    similar_user_recs = similar_user_recs[similar_user_recs > .10]\r\n",
    "\r\n",
    "    # Filter all movie ratings made by similar users and calculates its recommendation percentage\r\n",
    "    query=(ratings[\"movieId\"].isin(similar_user_recs.index)) & (ratings[\"rating\"] > 4)\r\n",
    "    all_users = ratings[query]\r\n",
    "    all_user_recs = all_users[\"movieId\"].value_counts() / len(all_users[\"userId\"].unique())\r\n",
    "\r\n",
    "    # Concatenate the recommendation percentages from similar users and all users\r\n",
    "    rec_percentages = pd.concat([similar_user_recs, all_user_recs], axis=1)\r\n",
    "    rec_percentages.columns = [\"similar\", \"all\"]\r\n",
    "\r\n",
    "    # Calculate the score as the ratio of recommendation percentages from\r\n",
    "    # similar users and all users\r\n",
    "    rec_percentages[\"score\"] = rec_percentages[\"similar\"] / rec_percentages[\"all\"]\r\n",
    "    rec_percentages = rec_percentages.sort_values(\"score\", ascending=False)\r\n",
    "\r\n",
    "    # Return the top 10 recommendations\r\n",
    "    cols=[\"score\", \"title\", \"genres\"]\r\n",
    "    results = rec_percentages.head(10).merge(movies, left_index=True, right_on=\"movieId\")[cols]\r\n",
    "    return results\r\n",
    "\r\n",
    "movie_id = 89745\r\n",
    "movie=filter_movie_by_id(movie_id, movies)\r\n",
    "display(movie)\r\n",
    "similar_movies = search_similar_movies_ratings(movie_id)\r\n",
    "display(similar_movies)"
   ],
   "outputs": [
    {
     "output_type": "display_data",
     "data": {
      "text/html": [
       "<div>\n",
       "<style scoped>\n",
       "    .dataframe tbody tr th:only-of-type {\n",
       "        vertical-align: middle;\n",
       "    }\n",
       "\n",
       "    .dataframe tbody tr th {\n",
       "        vertical-align: top;\n",
       "    }\n",
       "\n",
       "    .dataframe thead th {\n",
       "        text-align: right;\n",
       "    }\n",
       "</style>\n",
       "<table border=\"1\" class=\"dataframe\">\n",
       "  <thead>\n",
       "    <tr style=\"text-align: right;\">\n",
       "      <th></th>\n",
       "      <th>movieId</th>\n",
       "      <th>title</th>\n",
       "      <th>genres</th>\n",
       "      <th>clean_title</th>\n",
       "    </tr>\n",
       "  </thead>\n",
       "  <tbody>\n",
       "    <tr>\n",
       "      <th>17067</th>\n",
       "      <td>89745</td>\n",
       "      <td>Avengers, The (2012)</td>\n",
       "      <td>Action|Adventure|Sci-Fi|IMAX</td>\n",
       "      <td>Avengers The 2012</td>\n",
       "    </tr>\n",
       "  </tbody>\n",
       "</table>\n",
       "</div>"
      ],
      "text/plain": [
       "       movieId                 title                        genres  \\\n",
       "17067    89745  Avengers, The (2012)  Action|Adventure|Sci-Fi|IMAX   \n",
       "\n",
       "             clean_title  \n",
       "17067  Avengers The 2012  "
      ]
     },
     "metadata": {}
    },
    {
     "output_type": "display_data",
     "data": {
      "text/html": [
       "<div>\n",
       "<style scoped>\n",
       "    .dataframe tbody tr th:only-of-type {\n",
       "        vertical-align: middle;\n",
       "    }\n",
       "\n",
       "    .dataframe tbody tr th {\n",
       "        vertical-align: top;\n",
       "    }\n",
       "\n",
       "    .dataframe thead th {\n",
       "        text-align: right;\n",
       "    }\n",
       "</style>\n",
       "<table border=\"1\" class=\"dataframe\">\n",
       "  <thead>\n",
       "    <tr style=\"text-align: right;\">\n",
       "      <th></th>\n",
       "      <th>score</th>\n",
       "      <th>title</th>\n",
       "      <th>genres</th>\n",
       "    </tr>\n",
       "  </thead>\n",
       "  <tbody>\n",
       "    <tr>\n",
       "      <th>17067</th>\n",
       "      <td>24.716368</td>\n",
       "      <td>Avengers, The (2012)</td>\n",
       "      <td>Action|Adventure|Sci-Fi|IMAX</td>\n",
       "    </tr>\n",
       "    <tr>\n",
       "      <th>20513</th>\n",
       "      <td>19.610199</td>\n",
       "      <td>Thor: The Dark World (2013)</td>\n",
       "      <td>Action|Adventure|Fantasy|IMAX</td>\n",
       "    </tr>\n",
       "    <tr>\n",
       "      <th>25058</th>\n",
       "      <td>19.491770</td>\n",
       "      <td>Avengers: Age of Ultron (2015)</td>\n",
       "      <td>Action|Adventure|Sci-Fi</td>\n",
       "    </tr>\n",
       "    <tr>\n",
       "      <th>19678</th>\n",
       "      <td>17.867419</td>\n",
       "      <td>Iron Man 3 (2013)</td>\n",
       "      <td>Action|Sci-Fi|Thriller|IMAX</td>\n",
       "    </tr>\n",
       "    <tr>\n",
       "      <th>16725</th>\n",
       "      <td>17.843074</td>\n",
       "      <td>Captain America: The First Avenger (2011)</td>\n",
       "      <td>Action|Adventure|Sci-Fi|Thriller|War</td>\n",
       "    </tr>\n",
       "    <tr>\n",
       "      <th>16312</th>\n",
       "      <td>17.299824</td>\n",
       "      <td>Thor (2011)</td>\n",
       "      <td>Action|Adventure|Drama|Fantasy|IMAX</td>\n",
       "    </tr>\n",
       "    <tr>\n",
       "      <th>21348</th>\n",
       "      <td>17.183667</td>\n",
       "      <td>Captain America: The Winter Soldier (2014)</td>\n",
       "      <td>Action|Adventure|Sci-Fi|IMAX</td>\n",
       "    </tr>\n",
       "    <tr>\n",
       "      <th>25071</th>\n",
       "      <td>16.649399</td>\n",
       "      <td>Captain America: Civil War (2016)</td>\n",
       "      <td>Action|Sci-Fi|Thriller</td>\n",
       "    </tr>\n",
       "    <tr>\n",
       "      <th>25061</th>\n",
       "      <td>15.865628</td>\n",
       "      <td>Ant-Man (2015)</td>\n",
       "      <td>Action|Adventure|Sci-Fi</td>\n",
       "    </tr>\n",
       "    <tr>\n",
       "      <th>14628</th>\n",
       "      <td>15.651921</td>\n",
       "      <td>Iron Man 2 (2010)</td>\n",
       "      <td>Action|Adventure|Sci-Fi|Thriller|IMAX</td>\n",
       "    </tr>\n",
       "  </tbody>\n",
       "</table>\n",
       "</div>"
      ],
      "text/plain": [
       "           score                                       title  \\\n",
       "17067  24.716368                        Avengers, The (2012)   \n",
       "20513  19.610199                 Thor: The Dark World (2013)   \n",
       "25058  19.491770              Avengers: Age of Ultron (2015)   \n",
       "19678  17.867419                           Iron Man 3 (2013)   \n",
       "16725  17.843074   Captain America: The First Avenger (2011)   \n",
       "16312  17.299824                                 Thor (2011)   \n",
       "21348  17.183667  Captain America: The Winter Soldier (2014)   \n",
       "25071  16.649399           Captain America: Civil War (2016)   \n",
       "25061  15.865628                              Ant-Man (2015)   \n",
       "14628  15.651921                           Iron Man 2 (2010)   \n",
       "\n",
       "                                      genres  \n",
       "17067           Action|Adventure|Sci-Fi|IMAX  \n",
       "20513          Action|Adventure|Fantasy|IMAX  \n",
       "25058                Action|Adventure|Sci-Fi  \n",
       "19678            Action|Sci-Fi|Thriller|IMAX  \n",
       "16725   Action|Adventure|Sci-Fi|Thriller|War  \n",
       "16312    Action|Adventure|Drama|Fantasy|IMAX  \n",
       "21348           Action|Adventure|Sci-Fi|IMAX  \n",
       "25071                 Action|Sci-Fi|Thriller  \n",
       "25061                Action|Adventure|Sci-Fi  \n",
       "14628  Action|Adventure|Sci-Fi|Thriller|IMAX  "
      ]
     },
     "metadata": {}
    }
   ],
   "metadata": {}
  },
  {
   "cell_type": "code",
   "execution_count": 68,
   "source": [
    "import ipywidgets as widgets\r\n",
    "from IPython.display import display\r\n",
    "\r\n",
    "# Defines the movie input to search to similar movies\r\n",
    "movie_name_input = widgets.Text(\r\n",
    "    value='Toy Story',\r\n",
    "    description='Movie Title:',\r\n",
    "    disabled=False\r\n",
    ")\r\n",
    "\r\n",
    "# List with 10 movies to recommend\r\n",
    "recommendation_list = widgets.Output()\r\n",
    "\r\n",
    "def on_type_rec(data):\r\n",
    "    '''\r\n",
    "    This function is a callback called every time the movie_input \r\n",
    "    changes. When this happens, the recommendation_list will be \r\n",
    "    cleared, and if the title has more than 5 characters, it will \r\n",
    "    search 10 movies to recommend\r\n",
    "    '''\r\n",
    "    with recommendation_list:\r\n",
    "        recommendation_list.clear_output()\r\n",
    "        title = data[\"new\"]\r\n",
    "        if len(title) > 5:\r\n",
    "            results = search_similar_movies_title(title, movies)\r\n",
    "            movie_id = results.iloc[0][\"movieId\"]\r\n",
    "            display(search_similar_movies_ratings(movie_id))\r\n",
    "        else:\r\n",
    "            logging.info('ℹ️ Enter at least 6 characters to search for similar movies!')\r\n",
    "\r\n",
    "movie_name_input.observe(on_type_rec, names='value')\r\n",
    "display(movie_name_input, recommendation_list)"
   ],
   "outputs": [
    {
     "output_type": "display_data",
     "data": {
      "application/vnd.jupyter.widget-view+json": {
       "version_major": 2,
       "version_minor": 0,
       "model_id": "ffa1cdcd2a034cadb7e943ffba318a0a"
      },
      "text/plain": [
       "Text(value='Toy Story', description='Movie Title:')"
      ]
     },
     "metadata": {}
    },
    {
     "output_type": "display_data",
     "data": {
      "application/vnd.jupyter.widget-view+json": {
       "version_major": 2,
       "version_minor": 0,
       "model_id": "fec76da91a8a4ae59778966bd05137dd"
      },
      "text/plain": [
       "Output()"
      ]
     },
     "metadata": {}
    }
   ],
   "metadata": {}
  },
  {
   "cell_type": "markdown",
   "source": [
    "## Unit tests"
   ],
   "metadata": {}
  },
  {
   "cell_type": "markdown",
   "source": [
    "OBS.: The file named `tests_project1.py` is already created in the directory `project1` "
   ],
   "metadata": {}
  },
  {
   "cell_type": "code",
   "execution_count": null,
   "source": [
    "!pip install pytest pytest-sugar"
   ],
   "outputs": [],
   "metadata": {}
  },
  {
   "cell_type": "code",
   "execution_count": null,
   "source": [
    "!pytest tests_project1.py"
   ],
   "outputs": [],
   "metadata": {}
  }
 ],
 "metadata": {
  "orig_nbformat": 4,
  "language_info": {
   "name": "python",
   "version": "3.9.2",
   "mimetype": "text/x-python",
   "codemirror_mode": {
    "name": "ipython",
    "version": 3
   },
   "pygments_lexer": "ipython3",
   "nbconvert_exporter": "python",
   "file_extension": ".py"
  },
  "kernelspec": {
   "name": "python3",
   "display_name": "Python 3.9.2 64-bit"
  },
  "interpreter": {
   "hash": "ac59ebe37160ed0dfa835113d9b8498d9f09ceb179beaac4002f036b9467c963"
  }
 },
 "nbformat": 4,
 "nbformat_minor": 2
}